{
 "cells": [
  {
   "cell_type": "code",
   "execution_count": 86,
   "metadata": {},
   "outputs": [],
   "source": [
    "import requests\n",
    "from bs4 import BeautifulSoup\n",
    "import pandas as pd"
   ]
  },
  {
   "cell_type": "markdown",
   "metadata": {},
   "source": [
    "## Data Exploration\n",
    "I want to scrape the Purdue butcher block website to see when they update it, scrape the results, and provide an easily navigatable interface (and tell me if they have chuck eyes)"
   ]
  },
  {
   "cell_type": "code",
   "execution_count": 91,
   "metadata": {},
   "outputs": [
    {
     "name": "stderr",
     "output_type": "stream",
     "text": [
      "/home/will/Projects/butcher_block/env/lib/python3.8/site-packages/urllib3/connectionpool.py:1043: InsecureRequestWarning: Unverified HTTPS request is being made to host 'ag.purdue.edu'. Adding certificate verification is strongly advised. See: https://urllib3.readthedocs.io/en/1.26.x/advanced-usage.html#ssl-warnings\n"
     ]
    }
   ],
   "source": [
    "url = 'https://ag.purdue.edu/ansc/ButcherBlock/Pages/Meatlist.aspx'\n",
    "html = requests.get(url,verify=False).text"
   ]
  },
  {
   "cell_type": "markdown",
   "metadata": {},
   "source": [
    "All of the values I want to parse are located in \\<tr\\> elements, so I can use BeautifulSoup to parse out the table rows"
   ]
  },
  {
   "cell_type": "code",
   "execution_count": 92,
   "metadata": {},
   "outputs": [],
   "source": [
    "\n",
    "soup = BeautifulSoup(html,'html.parser')\n",
    "rows = soup.find_all('tr')"
   ]
  },
  {
   "cell_type": "markdown",
   "metadata": {},
   "source": [
    "Thhe values are nested in \\<td\\> elements inside of the table rows, in an attribute called data-sheets-value. I can extract each of these into a list"
   ]
  },
  {
   "cell_type": "code",
   "execution_count": 93,
   "metadata": {},
   "outputs": [],
   "source": [
    "import json\n",
    "for row in rows:\n",
    "    curr = []\n",
    "    for td in row:\n",
    "        if 'data-sheets-value' in td.attrs:\n",
    "            #print(td['data-sheets-value'])\n",
    "            val = json.loads(td['data-sheets-value'])\n",
    "            if '2' in val:\n",
    "                curr.append(val['2'])\n",
    "            else:\n",
    "                curr.append(val['3'])"
   ]
  },
  {
   "cell_type": "markdown",
   "metadata": {},
   "source": [
    "It gets a little complicated, but basically the header is Category | Avg Weight | $/lb\n",
    "The rows arent always lined up header to header, so I need to dynamically figure out when the headers per row are starting/stopping"
   ]
  },
  {
   "cell_type": "code",
   "execution_count": 94,
   "metadata": {},
   "outputs": [
    {
     "name": "stdout",
     "output_type": "stream",
     "text": [
      "['Beef Steaks', 'Average Weight', 'Price Per Pound', 'Pork Chops, Steaks & Ribs', 'Average Weight', 'Price Per Pound']\n",
      "['Flat Iron', '1', '$8.99', 'Pork Roasts', 'Average Weight', 'Price Per Pound']\n",
      "['Beef Roasts', 'Average Weight', 'Price Per Pound']\n",
      "['Rump Roast ', '3-5', '$5.99', 'Beef Patties', '6', '$6.99']\n",
      "['Beef Stew Meat', '1-2', '$5.99', 'Southern Brand Pork Sausage', '1-2', '$3.99']\n",
      "['Boneless Breast', '1', '$5.99']\n",
      "['Mozzarella Brats', '1.75', '$3.99', 'Whole Chicken', '3', '$1.99']\n",
      "['Wings', '2', '$1.99', 'Buffalo Style Turkey Wings', '2', '$2.99']\n",
      "['Smoked and Cured', 'Average Weight', 'Price Per Pound']\n",
      "['Pork Summer Sausage', '1', '$4.99', 'Leg Roast', '7', '$7.99']\n",
      "['Boiler Tracks Family Size', '60 oz', '$13.50', 'Loin Roast', '3', '$12.99']\n",
      "[]\n"
     ]
    }
   ],
   "source": [
    "import json\n",
    "h1 = None\n",
    "h2 = None\n",
    "d1 = {}\n",
    "run1 = []\n",
    "run2 = []\n",
    "for i,row in enumerate(rows[3:]):\n",
    "    tds = [td.string for td in row if 'data-sheets-value' in td.attrs]\n",
    "    if i % 5 == 0:\n",
    "        print(tds)\n",
    "    #print(run1)\n",
    "    vals = [td for td in tds]\n",
    "    vals = [v for v in vals if v != ' '] \n",
    "    #print(f'current row vals:{vals}')\n",
    "    col1,col2 = vals[:3],vals[3:]\n",
    "    #print(f'col1:{col1}\\ncol2:{col2}')\n",
    "    #print(f'run1:{run1}\\nrun2:{run2}')\n",
    "    if 'Average Weight' in col1:\n",
    "        if h1 == None:\n",
    "            h1 = col1[0]\n",
    "        else:\n",
    "            d1[h1] = run1\n",
    "            h1 = col1[0]\n",
    "            run1 = []\n",
    "    elif col1!=[] and col2 != []:\n",
    "        run1.append(col1)\n",
    "    elif col2 == []:\n",
    "        run2.append(col1)\n",
    "    if 'Average Weight' in col2:\n",
    "        if h2 == None:\n",
    "            h2 = col2[0]\n",
    "        else:\n",
    "            d1[h2] = run2\n",
    "            h2 = col2[0]\n",
    "            run2 = []\n",
    "    elif col2 != None:\n",
    "        run2.append(col2)\n",
    "\n",
    "\n"
   ]
  },
  {
   "cell_type": "markdown",
   "metadata": {},
   "source": [
    "I got it, besides some additional empty lists that were added to the dictionary. I can now create a pandas df "
   ]
  },
  {
   "cell_type": "code",
   "execution_count": 95,
   "metadata": {},
   "outputs": [],
   "source": [
    "columns = ['item','avg weight/size','price/lb|unit']\n",
    "df_dict = {k : pd.DataFrame(v,columns=columns) for k,v in d1.items()}\n",
    "\n",
    "df = (pd.concat(df_dict)\n",
    "        .reset_index(level=1,drop=True)\n",
    "        .rename_axis('category')\n",
    "        .reset_index()\n",
    "        .dropna()\n",
    ")"
   ]
  },
  {
   "cell_type": "code",
   "execution_count": 96,
   "metadata": {},
   "outputs": [
    {
     "data": {
      "text/html": [
       "<div>\n",
       "<style scoped>\n",
       "    .dataframe tbody tr th:only-of-type {\n",
       "        vertical-align: middle;\n",
       "    }\n",
       "\n",
       "    .dataframe tbody tr th {\n",
       "        vertical-align: top;\n",
       "    }\n",
       "\n",
       "    .dataframe thead th {\n",
       "        text-align: right;\n",
       "    }\n",
       "</style>\n",
       "<table border=\"1\" class=\"dataframe\">\n",
       "  <thead>\n",
       "    <tr style=\"text-align: right;\">\n",
       "      <th></th>\n",
       "      <th>category</th>\n",
       "      <th>item</th>\n",
       "      <th>avg weight/size</th>\n",
       "      <th>price/lb|unit</th>\n",
       "    </tr>\n",
       "  </thead>\n",
       "  <tbody>\n",
       "    <tr>\n",
       "      <th>0</th>\n",
       "      <td>Pork Chops, Steaks &amp; Ribs</td>\n",
       "      <td>Fresh Ham Steak</td>\n",
       "      <td>1</td>\n",
       "      <td>$1.89</td>\n",
       "    </tr>\n",
       "    <tr>\n",
       "      <th>1</th>\n",
       "      <td>Pork Chops, Steaks &amp; Ribs</td>\n",
       "      <td>Boneless America's Chops</td>\n",
       "      <td>1.5</td>\n",
       "      <td>$3.99</td>\n",
       "    </tr>\n",
       "    <tr>\n",
       "      <th>2</th>\n",
       "      <td>Pork Chops, Steaks &amp; Ribs</td>\n",
       "      <td>Blade Steaks</td>\n",
       "      <td>1.5</td>\n",
       "      <td>$1.49</td>\n",
       "    </tr>\n",
       "    <tr>\n",
       "      <th>4</th>\n",
       "      <td>Beef Steaks</td>\n",
       "      <td>Top Round</td>\n",
       "      <td>2</td>\n",
       "      <td>$4.99</td>\n",
       "    </tr>\n",
       "    <tr>\n",
       "      <th>5</th>\n",
       "      <td>Beef Steaks</td>\n",
       "      <td>Eye of Round</td>\n",
       "      <td>1</td>\n",
       "      <td>$5.99</td>\n",
       "    </tr>\n",
       "  </tbody>\n",
       "</table>\n",
       "</div>"
      ],
      "text/plain": [
       "                    category                      item avg weight/size  \\\n",
       "0  Pork Chops, Steaks & Ribs           Fresh Ham Steak               1   \n",
       "1  Pork Chops, Steaks & Ribs  Boneless America's Chops             1.5   \n",
       "2  Pork Chops, Steaks & Ribs              Blade Steaks             1.5   \n",
       "4                Beef Steaks                 Top Round               2   \n",
       "5                Beef Steaks              Eye of Round               1   \n",
       "\n",
       "  price/lb|unit  \n",
       "0         $1.89  \n",
       "1         $3.99  \n",
       "2         $1.49  \n",
       "4         $4.99  \n",
       "5         $5.99  "
      ]
     },
     "execution_count": 96,
     "metadata": {},
     "output_type": "execute_result"
    }
   ],
   "source": [
    "df.head()"
   ]
  },
  {
   "cell_type": "markdown",
   "metadata": {},
   "source": [
    "Got it into a dataframe, now I want to be able to select category, and sort by weight/price.\n",
    "\n",
    "I also will identify sale items, and put those on the main page"
   ]
  },
  {
   "cell_type": "code",
   "execution_count": 97,
   "metadata": {},
   "outputs": [],
   "source": [
    "df = df.applymap(str)"
   ]
  },
  {
   "cell_type": "code",
   "execution_count": 98,
   "metadata": {},
   "outputs": [],
   "source": [
    "\n",
    "def weight_range_to_avg(s):\n",
    "    if '-' in s:\n",
    "        vals = s.split('-')\n",
    "        return sum([int(val) for val in vals])/len(vals)\n",
    "    return float(s)\n",
    "def dollar_string_to_float(s):\n",
    "    if '$' in s:\n",
    "        return float(s[1:])\n",
    "    return float(s)\n",
    "\n",
    "df['avg weight/size'] = df['avg weight/size'].map(weight_range_to_avg)\n",
    "df['price/lb|unit'] = df['price/lb|unit'].map(dollar_string_to_float)\n",
    "\n"
   ]
  },
  {
   "cell_type": "code",
   "execution_count": 99,
   "metadata": {},
   "outputs": [],
   "source": [
    "df['sale'] = df.item.str.contains('\\*')"
   ]
  },
  {
   "cell_type": "code",
   "execution_count": 100,
   "metadata": {},
   "outputs": [
    {
     "data": {
      "text/html": [
       "<div>\n",
       "<style scoped>\n",
       "    .dataframe tbody tr th:only-of-type {\n",
       "        vertical-align: middle;\n",
       "    }\n",
       "\n",
       "    .dataframe tbody tr th {\n",
       "        vertical-align: top;\n",
       "    }\n",
       "\n",
       "    .dataframe thead th {\n",
       "        text-align: right;\n",
       "    }\n",
       "</style>\n",
       "<table border=\"1\" class=\"dataframe\">\n",
       "  <thead>\n",
       "    <tr style=\"text-align: right;\">\n",
       "      <th></th>\n",
       "      <th>category</th>\n",
       "      <th>item</th>\n",
       "      <th>avg weight/size</th>\n",
       "      <th>price/lb|unit</th>\n",
       "      <th>sale</th>\n",
       "    </tr>\n",
       "  </thead>\n",
       "  <tbody>\n",
       "    <tr>\n",
       "      <th>0</th>\n",
       "      <td>Pork Chops, Steaks &amp; Ribs</td>\n",
       "      <td>Fresh Ham Steak</td>\n",
       "      <td>1.0</td>\n",
       "      <td>1.89</td>\n",
       "      <td>False</td>\n",
       "    </tr>\n",
       "    <tr>\n",
       "      <th>1</th>\n",
       "      <td>Pork Chops, Steaks &amp; Ribs</td>\n",
       "      <td>Boneless America's Chops</td>\n",
       "      <td>1.5</td>\n",
       "      <td>3.99</td>\n",
       "      <td>False</td>\n",
       "    </tr>\n",
       "    <tr>\n",
       "      <th>2</th>\n",
       "      <td>Pork Chops, Steaks &amp; Ribs</td>\n",
       "      <td>Blade Steaks</td>\n",
       "      <td>1.5</td>\n",
       "      <td>1.49</td>\n",
       "      <td>False</td>\n",
       "    </tr>\n",
       "    <tr>\n",
       "      <th>4</th>\n",
       "      <td>Beef Steaks</td>\n",
       "      <td>Top Round</td>\n",
       "      <td>2.0</td>\n",
       "      <td>4.99</td>\n",
       "      <td>False</td>\n",
       "    </tr>\n",
       "    <tr>\n",
       "      <th>5</th>\n",
       "      <td>Beef Steaks</td>\n",
       "      <td>Eye of Round</td>\n",
       "      <td>1.0</td>\n",
       "      <td>5.99</td>\n",
       "      <td>False</td>\n",
       "    </tr>\n",
       "  </tbody>\n",
       "</table>\n",
       "</div>"
      ],
      "text/plain": [
       "                    category                      item  avg weight/size  \\\n",
       "0  Pork Chops, Steaks & Ribs           Fresh Ham Steak              1.0   \n",
       "1  Pork Chops, Steaks & Ribs  Boneless America's Chops              1.5   \n",
       "2  Pork Chops, Steaks & Ribs              Blade Steaks              1.5   \n",
       "4                Beef Steaks                 Top Round              2.0   \n",
       "5                Beef Steaks              Eye of Round              1.0   \n",
       "\n",
       "   price/lb|unit   sale  \n",
       "0           1.89  False  \n",
       "1           3.99  False  \n",
       "2           1.49  False  \n",
       "4           4.99  False  \n",
       "5           5.99  False  "
      ]
     },
     "execution_count": 100,
     "metadata": {},
     "output_type": "execute_result"
    }
   ],
   "source": [
    "df.head()"
   ]
  },
  {
   "cell_type": "code",
   "execution_count": 85,
   "metadata": {},
   "outputs": [],
   "source": [
    "df.to_csv('butcher_block02-17.csv')"
   ]
  },
  {
   "cell_type": "code",
   "execution_count": null,
   "metadata": {},
   "outputs": [],
   "source": []
  }
 ],
 "metadata": {
  "interpreter": {
   "hash": "6ddaedb60741b97248b91633cce9a8b97ae95473eae33031ce78bd7a90deaa25"
  },
  "kernelspec": {
   "display_name": "Python 3.8.10 ('env': venv)",
   "language": "python",
   "name": "python3"
  },
  "language_info": {
   "codemirror_mode": {
    "name": "ipython",
    "version": 3
   },
   "file_extension": ".py",
   "mimetype": "text/x-python",
   "name": "python",
   "nbconvert_exporter": "python",
   "pygments_lexer": "ipython3",
   "version": "3.8.10"
  },
  "orig_nbformat": 4
 },
 "nbformat": 4,
 "nbformat_minor": 2
}
